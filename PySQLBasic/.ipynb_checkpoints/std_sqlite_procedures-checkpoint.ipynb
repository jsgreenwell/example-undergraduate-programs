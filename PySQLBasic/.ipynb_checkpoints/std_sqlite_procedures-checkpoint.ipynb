{
 "cells": [
  {
   "cell_type": "markdown",
   "metadata": {},
   "source": [
    "## Introduction to csv & sqlite with Python\n",
    "\n",
    "<sup>The following was created with Jupyter Notebooks just to make it easier to add notes and directions - all code can be run under standard Python 3 (only uses built-in & standard libraries) just copy the code portions into your favorite python editor and save the books.csv and dvds.json files to the same directory as project.</sup>\n",
    "\n",
    "<p>\n",
    "    To load we will use the following libraries\n",
    "    <ul><li><b>csv</b></li><li><b>sqlite3</b></li></ul>\n",
    "</p>\n",
    "\n",
    "<p>A csv file contains values seperated with a common character. Besides Json these are probably the most common way to save data exported from or to be imported into a database. It is also common with spreadsheets but <i>beware</i> as Excel or Sheets files are not automatically \"csv\"s. Common delimiters (what we call the character chosen to seperate values) include:</p>\n",
    "    <ul>\n",
    "        <li>comma (,)</li>\n",
    "        <li>semicolon (;)</li>\n",
    "        <li>pipe (|)</li>\n",
    "        <li>whitespace or tabs</li>\n",
    "    </ul>\n",
    "    \n",
    "<p>These files are so common that a library to handle them is standard with Python as is the library for communicating with SQLite. An example is below, note to run this you would just have to create a database called \"Inventory\"</p>\n",
    "\n",
    "#### Basic Algorithm of Example 1\n",
    "<p>First we connect to the database then set up a cursor and create the table (you don't have to create the table in code - doing this to show its possible and so it is easier to run - load the data using csv as a dictionary and build an insert query by looping over the dictionary with a list comprehension (covered in class). Then it is just connect and \"executemany\" - execute runs only a single command.</p>"
   ]
  },
  {
   "cell_type": "code",
   "execution_count": 4,
   "metadata": {},
   "outputs": [
    {
     "data": {
      "text/plain": [
       "<sqlite3.Cursor at 0x564ad60>"
      ]
     },
     "execution_count": 4,
     "metadata": {},
     "output_type": "execute_result"
    }
   ],
   "source": [
    "import csv\n",
    "import sqlite3\n",
    "\n",
    "'''\n",
    "  This code will load a a csv object (our books) then insert them into the database \"Inventory\"\n",
    "  note - this is very much the simpliest version (which is great if data is great) but the basic\n",
    "  idea doesn't change with complexity. It just adds validation, logging/error handling, and full functions\n",
    "  for an API.\n",
    "'''\n",
    "\n",
    "con = sqlite3.connect(\"Inventory.db\")\n",
    "cur = con.cursor()\n",
    "\n",
    "### create the table on the database (not IF NOT EXISTS is a constraint that does exactly as stated)\n",
    "### note the 3 single quotes (''') is used for multiline strings as opposed to string concat (\"foo \" + \"bar\")\n",
    "cur.execute('''CREATE TABLE IF NOT EXISTS book (\n",
    "                isbn INTEGER PRIMARY KEY\n",
    "                             UNIQUE\n",
    "                             NOT NULL,\n",
    "                title     TEXT,\n",
    "                author    VARCHAR (40),\n",
    "                genre     VARCHAR (40),\n",
    "                tot_pages INTEGER,\n",
    "                editor    VARCHAR (40));''')\n",
    "\n",
    "with open('books.csv', 'r') as book_file:\n",
    "    books_dict = csv.DictReader(book_file, delimiter=',') #default is comma; adding just to show parameter\n",
    "    \n",
    "    insert_vals =  [(k['isbn'], k['title'], k['author'], k['genre'], \n",
    "                     k['tot_pages'], k['editor']) \n",
    "                   for k in books_dict]\n",
    "    \n",
    "cur.executemany(\"INSERT INTO book VALUES (?,?,?,?,?,?);\", insert_vals)\n",
    "### the placeholders above (question marks) allow the library to escape everything preventing sql injection attacks\n",
    "### Now if you weren't inserting all the values or the order wasn't the same - you would loop over the headers to build query\n",
    "###        CSVs usually contain all the data in the same order as the table which is why they are so useful"
   ]
  },
  {
   "cell_type": "code",
   "execution_count": 5,
   "metadata": {},
   "outputs": [
    {
     "name": "stdout",
     "output_type": "stream",
     "text": [
      "(183947, \"'the art of war'\", \"'sun tzu'\", '129', \"'matt markson'\", None)\n",
      "(201933, \"'the way of kings'\", \"'brandon sanderson'\", '420', \"''\", None)\n",
      "(17384, \"'elric of melnibone'\", \"'michael moorcock'\", '181', \"''\", None)\n",
      "(837211, \"'the storyteller'\", \"'jodi picoult'\", '178', \"''\", None)\n",
      "(123, \"'kinderund hausmarchen - grimms fairytales'\", \"'jakob and wilhelm grimm'\", '585', \"'patrick cohen'\", None)\n",
      "(927189, \"'fairy tail - volume 1'\", \"'hiro mashima'\", '367', \"'kodansha'\", None)\n"
     ]
    }
   ],
   "source": [
    "### Need to actually print out the data returned from this (or assign to a data structure and analyze)\n",
    "for i in cur.execute(\"select * from book;\"):\n",
    "    print(i)"
   ]
  },
  {
   "cell_type": "code",
   "execution_count": 6,
   "metadata": {},
   "outputs": [],
   "source": [
    "con.close() \n",
    "#close the connection (so the table/database isn't locked - see deadlock lecture)"
   ]
  },
  {
   "cell_type": "markdown",
   "metadata": {},
   "source": [
    "## Using Json & a note on placeholders\n",
    "\n",
    "We will move towards an API or Handler setup as we continue in the class, but we are starting with just a simple procedural program to go through the basic functions & procedures used.\n",
    "\n",
    "#### Placeholders\n",
    "Placeholders are used with SQL as a way of avoiding SQL Injection when sending user provided input to the database - with every non-assembly language I've worked with. Here we use it with an INSERT statement but it could be used with SELECT, UPDATE, or DELETE as well. Typically in the WHERE portion, such as <i>SELECT field1 FROM table1 <b>WHERE field2 = ?</b></i>. \n",
    "\n",
    "We will cover more about how these work in class, but for the example code just know the standard, unnamed, way to use a placeholder is with a \"?\" then reference by position (first example). If we instead needed named placeholders, for this class we will use the <i>format \":{field_name}\"</i> such that the <b>sku</b> field would be <i>:sku</i>. Further, that <b><i>this does not replace the need to validate user input</i></b> but is used with it to provide security.\n",
    "\n",
    "#### Json\n",
    "\n",
    "* See first weeks lesson on Python & Json for any review needed\n"
   ]
  },
  {
   "cell_type": "code",
   "execution_count": 51,
   "metadata": {},
   "outputs": [
    {
     "name": "stdout",
     "output_type": "stream",
     "text": [
      "INSERT INTO dvds(sku, title, price, genre, length) VALUES (:sku, :title, :price, :genre, :length);\n",
      "{'sku': 8283, 'title': 'return of the jedi', 'price': 47.99, 'genre': 'science fiction', 'length': 90}\n",
      "INSERT INTO dvds(sku, title, price, genre, length) VALUES (:sku, :title, :price, :genre, :length);\n",
      "{'sku': 73891, 'title': 'the neverending story', 'price': 24.99, 'genre': 'fantasy', 'length': 120}\n",
      "INSERT INTO dvds(sku, title, price, genre, length) VALUES (:sku, :title, :price, :genre, :length);\n",
      "{'sku': 27811, 'title': 'the princess bride', 'price': 14.99, 'genre': 'fantasy', 'length': 90}\n",
      "INSERT INTO dvds(sku, title, price, genre, length) VALUES (:sku, :title, :price, :genre, :length);\n",
      "{'sku': 162543, 'title': 'how i met your mother - complete series', 'price': 94.99, 'genre': 'comedy', 'length': 1222}\n",
      "(8283, 'return of the jedi', 47.99, 'science fiction', 90)\n",
      "(27811, 'the princess bride', 14.99, 'fantasy', 90)\n",
      "(73891, 'the neverending story', 24.99, 'fantasy', 120)\n",
      "(162543, 'how i met your mother - complete series', 94.99, 'comedy', 1222)\n"
     ]
    }
   ],
   "source": [
    "#load json into database\n",
    "import json\n",
    "# import sqlite3 #already imported - just uncomment if not using first part\n",
    "\n",
    "'''\n",
    "  This code will load a a json object (our dvds) then insert them into the database \"Inventory\"\n",
    "  note - this is very much the simpliest version (which is great if data is great) but the basic\n",
    "  idea doesn't change with complexity.\n",
    "'''\n",
    "\n",
    "con = sqlite3.connect(\"Inventory.db\")\n",
    "cur = con.cursor()\n",
    "\n",
    "### create the table on the database (not IF NOT EXISTS is a constraint that does exactly as stated)\n",
    "### note the 3 single quotes (''') is used for multiline strings\n",
    "cur.execute('''CREATE TABLE IF NOT EXISTS dvds (\n",
    "                    sku    INTEGER        PRIMARY KEY\n",
    "                           UNIQUE\n",
    "                           NOT NULL,\n",
    "                    title  TEXT,\n",
    "                    price  NUMERIC (8, 2),\n",
    "                    genre  VARCHAR (40),\n",
    "                    length INTEGER);''')\n",
    "\n",
    "with open(\"dvds.json\") as json_file:\n",
    "    dvd_json = json.load(json_file)\n",
    "    ### dvd_json is now a json object (basically a dictionary)\n",
    "\n",
    "\"\"\"\n",
    "The below can be optimized (and will be as we move further into functional programming & building handlers):\n",
    "Currently it: \n",
    "1. Builds a string with place holders by creating a string of the field names (dict keys)\n",
    "2. Then a list of keys (list comprehension) as placeholders (\":{sku}, :{title}, etc\")\n",
    "3. Then joining our placeholders (same as 1)\n",
    "4. Finally, using string's format method to build our query string (adding the strings from 1&3 to it)\n",
    "\n",
    "\"\"\"\n",
    "\n",
    "json_keys = dvd_json[0].keys()\n",
    "field_names = \", \".join(json_keys)\n",
    "placeholders = [\":{}\".format(k) for k in json_keys]\n",
    "placeholders = \", \".join(placeholders)\n",
    "query = \"INSERT INTO dvds({}) VALUES ({});\".format(field_names, placeholders)\n",
    "\n",
    "# Finally just insert each one at a time (we will talk about batchs & transactions in a later lesson)\n",
    "for rows in dvd_json:\n",
    "    cur.execute(query, rows)\n",
    "\n",
    "# And check the data\n",
    "for i in cur.execute(\"select * from dvds;\"):\n",
    "    print(i)"
   ]
  },
  {
   "cell_type": "code",
   "execution_count": 52,
   "metadata": {},
   "outputs": [],
   "source": [
    "con.close() #close the connection (so the table/database isn't locked)"
   ]
  },
  {
   "cell_type": "code",
   "execution_count": null,
   "metadata": {},
   "outputs": [],
   "source": []
  }
 ],
 "metadata": {
  "kernelspec": {
   "display_name": "Python 3",
   "language": "python",
   "name": "python3"
  },
  "language_info": {
   "codemirror_mode": {
    "name": "ipython",
    "version": 3
   },
   "file_extension": ".py",
   "mimetype": "text/x-python",
   "name": "python",
   "nbconvert_exporter": "python",
   "pygments_lexer": "ipython3",
   "version": "3.7.0"
  }
 },
 "nbformat": 4,
 "nbformat_minor": 2
}
